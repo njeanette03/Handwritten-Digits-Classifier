{
  "cells": [
    {
      "cell_type": "markdown",
      "metadata": {
        "id": "gypYeIBWMfD_"
      },
      "source": [
        "# Introduction\n",
        "\n",
        "In this project, you will build a neural network of your own design to evaluate the MNIST dataset.\n",
        "\n",
        "Some of the benchmark results on MNIST include can be found [on Yann LeCun's page](https://webcache.googleusercontent.com/search?q=cache:stAVPik6onEJ:yann.lecun.com/exdb/mnist) and include:\n",
        "\n",
        "88% [Lecun et al., 1998](https://hal.science/hal-03926082/document)\n",
        "\n",
        "95.3% [Lecun et al., 1998](https://hal.science/hal-03926082v1/document)\n",
        "\n",
        "99.65% [Ciresan et al., 2011](http://people.idsia.ch/~juergen/ijcai2011.pdf)\n",
        "\n",
        "\n",
        "MNIST is a great dataset for sanity checking your models, since the accuracy levels achieved by large convolutional neural networks and small linear models are both quite high. This makes it important to be familiar with the data.\n"
      ]
    },
    {
      "cell_type": "markdown",
      "metadata": {
        "id": "fPYoxNn2MfEC"
      },
      "source": [
        "## Imports"
      ]
    },
    {
      "cell_type": "code",
      "execution_count": 1,
      "metadata": {
        "id": "C2i9nbo3MfEC"
      },
      "outputs": [],
      "source": [
        "## This cell contains the essential imports you will need – DO NOT CHANGE THE CONTENTS! ##\n",
        "import torch\n",
        "import torch.nn as nn\n",
        "import torch.nn.functional as F\n",
        "import torch.optim as optim\n",
        "import torchvision\n",
        "import torchvision.transforms as transforms\n",
        "import matplotlib.pyplot as plt\n",
        "import numpy as np"
      ]
    },
    {
      "cell_type": "markdown",
      "metadata": {
        "id": "px844FquMfED"
      },
      "source": [
        "## Load the Dataset\n",
        "\n",
        "Specify your transforms as a list if you intend to .\n",
        "The transforms module is already loaded as `transforms`.\n",
        "\n",
        "MNIST is fortunately included in the torchvision module.\n",
        "Then, you can create your dataset using the `MNIST` object from `torchvision.datasets` ([the documentation is available here](https://pytorch.org/vision/stable/datasets.html#mnist)).\n",
        "Make sure to specify `download=True`!\n",
        "\n",
        "Once your dataset is created, you'll also need to define a `DataLoader` from the `torch.utils.data` module for both the train and the test set."
      ]
    },
    {
      "cell_type": "code",
      "execution_count": 2,
      "metadata": {
        "colab": {
          "base_uri": "https://localhost:8080/"
        },
        "id": "KLFHv1qcMfED",
        "outputId": "94e0336f-1fbc-4df5-b55d-28101d2da48c"
      },
      "outputs": [
        {
          "output_type": "stream",
          "name": "stdout",
          "text": [
            "Downloading http://yann.lecun.com/exdb/mnist/train-images-idx3-ubyte.gz\n",
            "Failed to download (trying next):\n",
            "HTTP Error 403: Forbidden\n",
            "\n",
            "Downloading https://ossci-datasets.s3.amazonaws.com/mnist/train-images-idx3-ubyte.gz\n",
            "Downloading https://ossci-datasets.s3.amazonaws.com/mnist/train-images-idx3-ubyte.gz to ./data/MNIST/raw/train-images-idx3-ubyte.gz\n"
          ]
        },
        {
          "output_type": "stream",
          "name": "stderr",
          "text": [
            "100%|██████████| 9912422/9912422 [00:00<00:00, 50892437.01it/s]\n"
          ]
        },
        {
          "output_type": "stream",
          "name": "stdout",
          "text": [
            "Extracting ./data/MNIST/raw/train-images-idx3-ubyte.gz to ./data/MNIST/raw\n",
            "\n",
            "Downloading http://yann.lecun.com/exdb/mnist/train-labels-idx1-ubyte.gz\n",
            "Failed to download (trying next):\n",
            "HTTP Error 403: Forbidden\n",
            "\n",
            "Downloading https://ossci-datasets.s3.amazonaws.com/mnist/train-labels-idx1-ubyte.gz\n",
            "Downloading https://ossci-datasets.s3.amazonaws.com/mnist/train-labels-idx1-ubyte.gz to ./data/MNIST/raw/train-labels-idx1-ubyte.gz\n"
          ]
        },
        {
          "output_type": "stream",
          "name": "stderr",
          "text": [
            "100%|██████████| 28881/28881 [00:00<00:00, 1734896.72it/s]"
          ]
        },
        {
          "output_type": "stream",
          "name": "stdout",
          "text": [
            "Extracting ./data/MNIST/raw/train-labels-idx1-ubyte.gz to ./data/MNIST/raw\n",
            "\n",
            "Downloading http://yann.lecun.com/exdb/mnist/t10k-images-idx3-ubyte.gz\n"
          ]
        },
        {
          "output_type": "stream",
          "name": "stderr",
          "text": [
            "\n"
          ]
        },
        {
          "output_type": "stream",
          "name": "stdout",
          "text": [
            "Failed to download (trying next):\n",
            "HTTP Error 403: Forbidden\n",
            "\n",
            "Downloading https://ossci-datasets.s3.amazonaws.com/mnist/t10k-images-idx3-ubyte.gz\n",
            "Downloading https://ossci-datasets.s3.amazonaws.com/mnist/t10k-images-idx3-ubyte.gz to ./data/MNIST/raw/t10k-images-idx3-ubyte.gz\n"
          ]
        },
        {
          "output_type": "stream",
          "name": "stderr",
          "text": [
            "100%|██████████| 1648877/1648877 [00:00<00:00, 13625734.44it/s]\n"
          ]
        },
        {
          "output_type": "stream",
          "name": "stdout",
          "text": [
            "Extracting ./data/MNIST/raw/t10k-images-idx3-ubyte.gz to ./data/MNIST/raw\n",
            "\n",
            "Downloading http://yann.lecun.com/exdb/mnist/t10k-labels-idx1-ubyte.gz\n",
            "Failed to download (trying next):\n",
            "HTTP Error 403: Forbidden\n",
            "\n",
            "Downloading https://ossci-datasets.s3.amazonaws.com/mnist/t10k-labels-idx1-ubyte.gz\n",
            "Downloading https://ossci-datasets.s3.amazonaws.com/mnist/t10k-labels-idx1-ubyte.gz to ./data/MNIST/raw/t10k-labels-idx1-ubyte.gz\n"
          ]
        },
        {
          "output_type": "stream",
          "name": "stderr",
          "text": [
            "100%|██████████| 4542/4542 [00:00<00:00, 1590327.14it/s]"
          ]
        },
        {
          "output_type": "stream",
          "name": "stdout",
          "text": [
            "Extracting ./data/MNIST/raw/t10k-labels-idx1-ubyte.gz to ./data/MNIST/raw\n",
            "\n"
          ]
        },
        {
          "output_type": "stream",
          "name": "stderr",
          "text": [
            "\n"
          ]
        }
      ],
      "source": [
        "# Define transforms and normalize\n",
        "transform = transforms.Compose([transforms.ToTensor(), transforms.Normalize((0.5,), (0.5,))])\n",
        "\n",
        "# Create training set and define training dataloader\n",
        "train_set = torchvision.datasets.MNIST(root='./data', train=True, download=True, transform=transform)\n",
        "train_loader = torch.utils.data.DataLoader(train_set, batch_size=128, shuffle=True)\n",
        "\n",
        "# Create validation set and define validation dataloader\n",
        "val_set = torchvision.datasets.MNIST(root='./data', train=False, download=True, transform=transform)\n",
        "val_loader = torch.utils.data.DataLoader(train_set, batch_size=128, shuffle=True)\n",
        "\n",
        "\n",
        "# Create test set and define test dataloader\n",
        "test_set = torchvision.datasets.MNIST(root='./data', train=False, download=True, transform=transform)\n",
        "test_loader = torch.utils.data.DataLoader(test_set, batch_size=128)\n"
      ]
    },
    {
      "cell_type": "markdown",
      "metadata": {
        "id": "ogkfP1ncMfED"
      },
      "source": [
        "## Justify your preprocessing\n",
        "\n",
        "In your own words, why did you choose the transforms you chose? If you didn't use any preprocessing steps, why not?"
      ]
    },
    {
      "cell_type": "markdown",
      "metadata": {
        "id": "DW8wJ1CgMfED"
      },
      "source": [
        "Normalization is used as our preprocessing to convert our dataset into tensors."
      ]
    },
    {
      "cell_type": "markdown",
      "metadata": {
        "id": "NdgNkx2mMfED"
      },
      "source": [
        "## Explore the Dataset\n",
        "Using matplotlib, numpy, and torch, explore the dimensions of your data.\n",
        "\n",
        "You can view images using the `show5` function defined below – it takes a data loader as an argument.\n",
        "Remember that normalized images will look really weird to you! You may want to try changing your transforms to view images.\n",
        "Typically using no transforms other than `toTensor()` works well for viewing – but not as well for training your network.\n",
        "If `show5` doesn't work, go back and check your code for creating your data loaders and your training/test sets."
      ]
    },
    {
      "cell_type": "code",
      "execution_count": 3,
      "metadata": {
        "id": "yeVFjHSEMfED"
      },
      "outputs": [],
      "source": [
        "## This cell contains a function for showing 5 images from a dataloader – DO NOT CHANGE THE CONTENTS! ##\n",
        "def show5(img_loader):\n",
        "    dataiter = iter(img_loader)\n",
        "\n",
        "    batch = next(dataiter)\n",
        "    labels = batch[1][0:5]\n",
        "    images = batch[0][0:5]\n",
        "    for i in range(5):\n",
        "        print(int(labels[i].detach()))\n",
        "\n",
        "        image = images[i].numpy()\n",
        "        plt.imshow(image.T.squeeze().T)\n",
        "        plt.show()"
      ]
    },
    {
      "cell_type": "code",
      "execution_count": 4,
      "metadata": {
        "colab": {
          "base_uri": "https://localhost:8080/"
        },
        "id": "M-G9oSTVMfEE",
        "outputId": "e63db663-99f7-4ac3-c893-a11b774a5de8"
      },
      "outputs": [
        {
          "output_type": "stream",
          "name": "stdout",
          "text": [
            "torch.Size([60000, 28, 28])\n",
            "torch.Size([10000, 28, 28])\n",
            "torch.Size([10000, 28, 28])\n",
            "torch.uint8\n",
            "torch.uint8\n",
            "torch.uint8\n"
          ]
        }
      ],
      "source": [
        "# Explore data\n",
        "\n",
        "# Image shape\n",
        "print(train_set.data.shape)\n",
        "print(val_set.data.shape)\n",
        "print(test_set.data.shape)\n",
        "\n",
        "# Image data type\n",
        "print(train_set.data.dtype)\n",
        "print(val_set.data.dtype)\n",
        "print(test_set.data.dtype)"
      ]
    },
    {
      "cell_type": "code",
      "source": [
        "# View images\n",
        "show5(train_loader)"
      ],
      "metadata": {
        "colab": {
          "base_uri": "https://localhost:8080/",
          "height": 1000
        },
        "id": "bt3JYXxwIZ_9",
        "outputId": "60cad7da-d94b-43d2-98ba-bd3d3f10b292"
      },
      "execution_count": 5,
      "outputs": [
        {
          "output_type": "stream",
          "name": "stdout",
          "text": [
            "5\n"
          ]
        },
        {
          "output_type": "display_data",
          "data": {
            "text/plain": [
              "<Figure size 640x480 with 1 Axes>"
            ],
            "image/png": "[encoded data removed]"
          },
          "metadata": {}
        },
        {
          "output_type": "stream",
          "name": "stdout",
          "text": [
            "9\n"
          ]
        },
        {
          "output_type": "display_data",
          "data": {
            "text/plain": [
              "<Figure size 640x480 with 1 Axes>"
            ],
            "image/png": "[encoded data removed]"
          },
          "metadata": {}
        },
        {
          "output_type": "stream",
          "name": "stdout",
          "text": [
            "2\n"
          ]
        },
        {
          "output_type": "display_data",
          "data": {
            "text/plain": [
              "<Figure size 640x480 with 1 Axes>"
            ],
            "image/png": "[encoded data removed]"
          },
          "metadata": {}
        },
        {
          "output_type": "stream",
          "name": "stdout",
          "text": [
            "7\n"
          ]
        },
        {
          "output_type": "display_data",
          "data": {
            "text/plain": [
              "<Figure size 640x480 with 1 Axes>"
            ],
            "image/png": "[encoded data removed]"
          },
          "metadata": {}
        },
        {
          "output_type": "stream",
          "name": "stdout",
          "text": [
            "1\n"
          ]
        },
        {
          "output_type": "display_data",
          "data": {
            "text/plain": [
              "<Figure size 640x480 with 1 Axes>"
            ],
            "image/png": "[encoded data removed]"
          },
          "metadata": {}
        }
      ]
    },
    {
      "cell_type": "markdown",
      "metadata": {
        "id": "RoBNU7RdMfEE"
      },
      "source": [
        "## Build your Neural Network\n",
        "Using the layers in `torch.nn` (which has been imported as `nn`) and the `torch.nn.functional` module (imported as `F`), construct a neural network based on the parameters of the dataset.\n",
        "Use any architecture you like.\n",
        "\n",
        "*Note*: If you did not flatten your tensors in your transforms or as part of your preprocessing and you are using only `Linear` layers, make sure to use the `Flatten` layer in your network!"
      ]
    },
    {
      "cell_type": "code",
      "execution_count": 6,
      "metadata": {
        "id": "O4Zt-J9iMfEE"
      },
      "outputs": [],
      "source": [
        "class Net(nn.Module):\n",
        "    def __init__(self):\n",
        "        super(Net, self).__init__()\n",
        "        self.activation = F.relu # activation\n",
        "        # define layers\n",
        "        self.fc1 = nn.Linear(28*28, 128)\n",
        "        self.fc2 = nn.Linear(128, 64)\n",
        "        self.fc3 = nn.Linear(64, 10)\n",
        "\n",
        "    def forward(self, x):\n",
        "        # flatten\n",
        "        x = torch.flatten(x, 1)\n",
        "        # feed forward\n",
        "        x = self.activation(self.fc1(x))\n",
        "        x = self.activation(self.fc2(x))\n",
        "        x = self.fc3(x)\n",
        "        return x"
      ]
    },
    {
      "cell_type": "markdown",
      "metadata": {
        "id": "dMgw5SduMfEE"
      },
      "source": [
        "Specify a loss function and an optimizer, and instantiate the model.\n",
        "\n",
        "If you use a less common loss function, please note why you chose that loss function in a comment."
      ]
    },
    {
      "cell_type": "code",
      "execution_count": 7,
      "metadata": {
        "id": "T_F8BZ9LMfEE"
      },
      "outputs": [],
      "source": [
        "# Instanstiate model\n",
        "net = Net()\n",
        "\n",
        "# Optimizer\n",
        "optimizer = optim.Adam(net.parameters(), lr=0.001)\n",
        "\n",
        "# Loss function\n",
        "criterion = nn.CrossEntropyLoss()"
      ]
    },
    {
      "cell_type": "markdown",
      "metadata": {
        "id": "hwSyUpepMfEE"
      },
      "source": [
        "## Running your Neural Network\n",
        "Use whatever method you like to train your neural network, and ensure you record the average loss at each epoch.\n",
        "Don't forget to use `torch.device()` and the `.to()` method for both your model and your data if you are using GPU!\n",
        "\n",
        "If you want to print your loss **during** each epoch, you can use the `enumerate` function and print the loss after a set number of batches. 250 batches works well for most people!"
      ]
    },
    {
      "cell_type": "code",
      "execution_count": 8,
      "metadata": {
        "colab": {
          "base_uri": "https://localhost:8080/"
        },
        "id": "riU9P-sFMfEE",
        "outputId": "6536b723-f561-43ce-de87-093fabef6917"
      },
      "outputs": [
        {
          "output_type": "execute_result",
          "data": {
            "text/plain": [
              "Net(\n",
              "  (fc1): Linear(in_features=784, out_features=128, bias=True)\n",
              "  (fc2): Linear(in_features=128, out_features=64, bias=True)\n",
              "  (fc3): Linear(in_features=64, out_features=10, bias=True)\n",
              ")"
            ]
          },
          "metadata": {},
          "execution_count": 8
        }
      ],
      "source": [
        "# Set device\n",
        "device = torch.device(\"cuda\" if torch.cuda.is_available() else \"cpu\")\n",
        "net.to(device)"
      ]
    },
    {
      "cell_type": "code",
      "source": [
        "# Epoch size\n",
        "num_epochs = 10\n",
        "\n",
        "# List for loss history\n",
        "train_loss_history = list()\n",
        "val_loss_history = list()\n",
        "\n",
        "# Training loop\n",
        "for epoch in range(num_epochs):\n",
        "  net.train()\n",
        "  train_loss = 0.0\n",
        "  train_correct = 0\n",
        "\n",
        "  # Print loss during each epoch\n",
        "  for i, data in enumerate(train_loader):\n",
        "    inputs, labels = data\n",
        "\n",
        "    optimizer.zero_grad() # zero out gradients of optimizer\n",
        "    outputs = net(inputs) # get output of model\n",
        "    loss = criterion(outputs, labels) # compute loss\n",
        "\n",
        "    loss.backward() # backward method to compute gradient loss\n",
        "    optimizer.step() # update parameters\n",
        "\n",
        "    # Compute accuracy and print accuracy and loss\n",
        "    _, predicted = torch.max(outputs.data, 1)\n",
        "    train_correct += (predicted == labels).sum().item()\n",
        "    train_loss += loss.item()\n",
        "\n",
        "  train_accuracy = train_correct / len(train_loader.dataset) * 100\n",
        "  train_avg_loss = train_loss / len(train_loader)\n",
        "\n",
        "  print(f\"Epoch {epoch+1} Training accuracy: {train_accuracy:.2f}% Training loss: {train_avg_loss:.5f}\")\n",
        "\n",
        "  train_loss_history.append(train_avg_loss)\n",
        "\n",
        "\n",
        "  # Validation loop\n",
        "  val_loss = 0.0\n",
        "  val_correct = 0\n",
        "  net.eval()\n",
        "  accuracy = 0\n",
        "\n",
        "  for inputs, labels in val_loader:\n",
        "    inputs, labels = inputs.to(device), labels.to(device)\n",
        "\n",
        "    outputs = net(inputs) # get output of model\n",
        "    loss = criterion(outputs, labels) # compute loss\n",
        "\n",
        "    # Compute accuracy and print accuracy and loss\n",
        "    _, predicted = torch.max(outputs.data, 1)\n",
        "    val_correct += (predicted == labels).sum().item()\n",
        "    val_loss += loss.item()\n",
        "\n",
        "  val_accuracy = val_correct / len(val_loader.dataset) * 100\n",
        "  val_avg_loss = val_loss / len(val_loader)\n",
        "\n",
        "  print(f\"Epoch {epoch+1} Validation accuracy: {val_accuracy:.2f}% Validation loss: {val_avg_loss:.5f}\")\n",
        "\n",
        "  val_loss_history.append(val_avg_loss)\n"
      ],
      "metadata": {
        "colab": {
          "base_uri": "https://localhost:8080/"
        },
        "id": "wLoLDLxZLmUe",
        "outputId": "1bd6fb1a-e5f4-40ec-e7d6-c63506f73d81"
      },
      "execution_count": 15,
      "outputs": [
        {
          "output_type": "stream",
          "name": "stdout",
          "text": [
            "Epoch 1 Training accuracy: 97.98% Training loss: 0.06293\n",
            "Epoch 1 Validation accuracy: 98.36% Validation loss: 0.05098\n",
            "Epoch 2 Training accuracy: 98.12% Training loss: 0.05881\n",
            "Epoch 2 Validation accuracy: 98.08% Validation loss: 0.05794\n",
            "Epoch 3 Training accuracy: 98.31% Training loss: 0.05097\n",
            "Epoch 3 Validation accuracy: 98.81% Validation loss: 0.03733\n",
            "Epoch 4 Training accuracy: 98.39% Training loss: 0.04837\n",
            "Epoch 4 Validation accuracy: 98.58% Validation loss: 0.04292\n",
            "Epoch 5 Training accuracy: 98.63% Training loss: 0.04304\n",
            "Epoch 5 Validation accuracy: 98.82% Validation loss: 0.03680\n",
            "Epoch 6 Training accuracy: 98.70% Training loss: 0.03866\n",
            "Epoch 6 Validation accuracy: 98.84% Validation loss: 0.03419\n",
            "Epoch 7 Training accuracy: 98.68% Training loss: 0.03909\n",
            "Epoch 7 Validation accuracy: 99.02% Validation loss: 0.02940\n",
            "Epoch 8 Training accuracy: 98.78% Training loss: 0.03628\n",
            "Epoch 8 Validation accuracy: 99.14% Validation loss: 0.02690\n",
            "Epoch 9 Training accuracy: 98.91% Training loss: 0.03193\n",
            "Epoch 9 Validation accuracy: 99.20% Validation loss: 0.02412\n",
            "Epoch 10 Training accuracy: 99.02% Training loss: 0.02996\n",
            "Epoch 10 Validation accuracy: 98.99% Validation loss: 0.02878\n"
          ]
        }
      ]
    },
    {
      "cell_type": "markdown",
      "metadata": {
        "id": "hrgPQIhIMfEE"
      },
      "source": [
        "Plot the training loss (and validation loss/accuracy, if recorded)."
      ]
    },
    {
      "cell_type": "code",
      "execution_count": 16,
      "metadata": {
        "id": "2NWG87m7MfEE",
        "colab": {
          "base_uri": "https://localhost:8080/",
          "height": 449
        },
        "outputId": "a339060a-a729-43f9-804e-24c17ec4b967"
      },
      "outputs": [
        {
          "output_type": "display_data",
          "data": {
            "text/plain": [
              "<Figure size 640x480 with 1 Axes>"
            ],
            "image/png": "[encoded data removed]"
          },
          "metadata": {}
        }
      ],
      "source": [
        "# Plot training and validation loss history\n",
        "plt.plot(train_loss_history, label='Training Loss')\n",
        "plt.plot(val_loss_history, label='Validation Loss')\n",
        "plt.xlabel('Epoch')\n",
        "plt.ylabel('Loss')\n",
        "plt.legend()\n",
        "plt.show()"
      ]
    },
    {
      "cell_type": "markdown",
      "metadata": {
        "id": "TOHOyl4SMfEE"
      },
      "source": [
        "## Testing your model\n",
        "Using the previously created `DataLoader` for the test set, compute the percentage of correct predictions using the highest probability prediction.\n",
        "\n",
        "If your accuracy is over 90%, great work, but see if you can push a bit further!\n",
        "If your accuracy is under 90%, you'll need to make improvements.\n",
        "Go back and check your model architecture, loss function, and optimizer to make sure they're appropriate for an image classification task."
      ]
    },
    {
      "cell_type": "code",
      "execution_count": 17,
      "metadata": {
        "id": "3qhuyct1MfEF",
        "colab": {
          "base_uri": "https://localhost:8080/"
        },
        "outputId": "b2247aab-1bc6-43c0-b1b9-b90974bba217"
      },
      "outputs": [
        {
          "output_type": "stream",
          "name": "stdout",
          "text": [
            "Test accuracy: 96.66% Test loss: 0.11904\n"
          ]
        }
      ],
      "source": [
        "test_loss = 0\n",
        "test_correct = 0\n",
        "\n",
        "for i, data in enumerate(test_loader):\n",
        "  inputs, labels = data\n",
        "\n",
        "  optimizer.zero_grad() # zero out gradients of optimizer\n",
        "  outputs = net(inputs) # get output of model\n",
        "  loss = criterion(outputs, labels) # compute loss\n",
        "\n",
        "  loss.backward() # backward method to compute gradient loss\n",
        "  optimizer.step() # update parameters\n",
        "\n",
        "  # Compute accuracy and print accuracy and loss\n",
        "  _, predicted = torch.max(outputs.data, 1)\n",
        "  test_correct += (predicted == labels).sum().item()\n",
        "  test_loss += loss.item()\n",
        "\n",
        "test_accuracy = test_correct / len(test_loader.dataset) * 100\n",
        "test_avg_loss = test_loss / len(test_loader)\n",
        "\n",
        "print(f\"Test accuracy: {test_accuracy:.2f}% Test loss: {test_avg_loss:.5f}\")"
      ]
    },
    {
      "cell_type": "markdown",
      "metadata": {
        "id": "Uzb3Hfa2MfEF"
      },
      "source": [
        "## Improving your model\n",
        "\n",
        "Once your model is done training, try tweaking your hyperparameters and training again below to improve your accuracy on the test set!"
      ]
    },
    {
      "cell_type": "code",
      "execution_count": 18,
      "metadata": {
        "id": "7R72R067MfEF"
      },
      "outputs": [],
      "source": [
        "## YOUR CODE HERE ##\n",
        "class Net2(nn.Module):\n",
        "    def __init__(self):\n",
        "        super(Net2, self).__init__()\n",
        "        self.activation = F.relu # activation\n",
        "        # define layers\n",
        "        self.fc1 = nn.Linear(28*28, 128)\n",
        "        self.fc2 = nn.Linear(128, 64)\n",
        "        self.fc3 = nn.Linear(64, 10)\n",
        "        self.dropout = nn.Dropout(0.2) # dropout\n",
        "\n",
        "    def forward(self, x):\n",
        "        # flatten\n",
        "        x = torch.flatten(x, 1)\n",
        "        # feed forward\n",
        "        x = self.activation(self.fc1(x))\n",
        "        x = self.dropout(x)\n",
        "        x = self.activation(self.fc2(x))\n",
        "        x = self.fc3(x)\n",
        "        return x\n",
        "\n",
        "# Instanstiate model\n",
        "net = Net2()\n",
        "\n",
        "# Optimizer\n",
        "optimizer = optim.Adam(net.parameters(), lr=0.001)\n",
        "\n",
        "# Loss function\n",
        "criterion = nn.CrossEntropyLoss()"
      ]
    },
    {
      "cell_type": "code",
      "source": [
        "# Epoch size\n",
        "num_epochs = 10\n",
        "\n",
        "# List for loss history\n",
        "train_loss_history = list()\n",
        "val_loss_history = list()\n",
        "\n",
        "# Training loop\n",
        "for epoch in range(num_epochs):\n",
        "  net.train()\n",
        "  train_loss = 0.0\n",
        "  train_correct = 0\n",
        "\n",
        "  # Print loss during each epoch\n",
        "  for i, data in enumerate(train_loader):\n",
        "    inputs, labels = data\n",
        "\n",
        "    optimizer.zero_grad() # zero out gradients of optimizer\n",
        "    outputs = net(inputs) # get output of model\n",
        "    loss = criterion(outputs, labels) # compute loss\n",
        "\n",
        "    loss.backward() # backward method to compute gradient loss\n",
        "    optimizer.step() # update parameters\n",
        "\n",
        "    # Compute accuracy and print accuracy and loss\n",
        "    _, predicted = torch.max(outputs.data, 1)\n",
        "    train_correct += (predicted == labels).sum().item()\n",
        "    train_loss += loss.item()\n",
        "\n",
        "  train_accuracy = train_correct / len(train_loader.dataset) * 100\n",
        "  train_avg_loss = train_loss / len(train_loader)\n",
        "\n",
        "  print(f\"Epoch {epoch+1} Training accuracy: {train_accuracy:.2f}% Training loss: {train_avg_loss:.5f}\")\n",
        "\n",
        "  train_loss_history.append(train_avg_loss)\n",
        "\n",
        "  # Validation loop\n",
        "  val_loss = 0.0\n",
        "  val_correct = 0\n",
        "  net.eval()\n",
        "\n",
        "  for inputs, labels in val_loader:\n",
        "\n",
        "    outputs = net(inputs) # get output of model\n",
        "    loss = criterion(outputs, labels) # compute loss\n",
        "\n",
        "    # Compute accuracy and print accuracy and loss\n",
        "    _, predicted = torch.max(outputs.data, 1)\n",
        "    val_correct += (predicted == labels).sum().item()\n",
        "    val_loss += loss.item()\n",
        "\n",
        "  val_accuracy = val_correct / len(val_loader.dataset) * 100\n",
        "  val_avg_loss = val_loss / len(val_loader)\n",
        "\n",
        "  print(f\"Epoch {epoch+1} Validation accuracy: {val_accuracy:.2f}% Validation loss: {val_avg_loss:.5f}\")\n",
        "\n",
        "  val_loss_history.append(val_avg_loss)\n"
      ],
      "metadata": {
        "colab": {
          "base_uri": "https://localhost:8080/"
        },
        "id": "iNP_BzkEDeE0",
        "outputId": "d1d58284-3398-43c2-8492-968f031561d4"
      },
      "execution_count": 19,
      "outputs": [
        {
          "output_type": "stream",
          "name": "stdout",
          "text": [
            "Epoch 1 Training accuracy: 84.76% Training loss: 0.50059\n",
            "Epoch 1 Validation accuracy: 92.82% Validation loss: 0.23548\n",
            "Epoch 2 Training accuracy: 92.80% Training loss: 0.23529\n",
            "Epoch 2 Validation accuracy: 95.23% Validation loss: 0.15465\n",
            "Epoch 3 Training accuracy: 94.26% Training loss: 0.18636\n",
            "Epoch 3 Validation accuracy: 95.63% Validation loss: 0.13764\n",
            "Epoch 4 Training accuracy: 95.19% Training loss: 0.15862\n",
            "Epoch 4 Validation accuracy: 96.71% Validation loss: 0.11067\n",
            "Epoch 5 Training accuracy: 95.54% Training loss: 0.14490\n",
            "Epoch 5 Validation accuracy: 96.75% Validation loss: 0.10470\n",
            "Epoch 6 Training accuracy: 95.90% Training loss: 0.13010\n",
            "Epoch 6 Validation accuracy: 97.19% Validation loss: 0.08920\n",
            "Epoch 7 Training accuracy: 96.19% Training loss: 0.12025\n",
            "Epoch 7 Validation accuracy: 97.72% Validation loss: 0.07220\n",
            "Epoch 8 Training accuracy: 96.38% Training loss: 0.11385\n",
            "Epoch 8 Validation accuracy: 97.90% Validation loss: 0.06608\n",
            "Epoch 9 Training accuracy: 96.55% Training loss: 0.10932\n",
            "Epoch 9 Validation accuracy: 97.80% Validation loss: 0.06738\n",
            "Epoch 10 Training accuracy: 96.76% Training loss: 0.10222\n",
            "Epoch 10 Validation accuracy: 98.00% Validation loss: 0.06190\n"
          ]
        }
      ]
    },
    {
      "cell_type": "code",
      "source": [
        "test_loss = 0\n",
        "test_correct = 0\n",
        "\n",
        "for i, data in enumerate(test_loader):\n",
        "  inputs, labels = data\n",
        "\n",
        "  optimizer.zero_grad() # zero out gradients of optimizer\n",
        "  outputs = net(inputs) # get output of model\n",
        "  loss = criterion(outputs, labels) # compute loss\n",
        "\n",
        "  loss.backward() # backward method to compute gradient loss\n",
        "  optimizer.step() # update parameters\n",
        "\n",
        "  # Compute accuracy and print accuracy and loss\n",
        "  _, predicted = torch.max(outputs.data, 1)\n",
        "  test_correct += (predicted == labels).sum().item()\n",
        "  test_loss += loss.item()\n",
        "\n",
        "test_accuracy = test_correct / len(test_loader.dataset) * 100\n",
        "test_avg_loss = test_loss / len(test_loader)\n",
        "\n",
        "print(f\"Test accuracy: {test_accuracy:.2f}% Test loss: {test_avg_loss:.5f}\")"
      ],
      "metadata": {
        "colab": {
          "base_uri": "https://localhost:8080/"
        },
        "id": "0Y-TuDc7Cni8",
        "outputId": "de343eb7-8972-4141-faf1-4d9a764ec321"
      },
      "execution_count": 20,
      "outputs": [
        {
          "output_type": "stream",
          "name": "stdout",
          "text": [
            "Test accuracy: 97.01% Test loss: 0.09813\n"
          ]
        }
      ]
    },
    {
      "cell_type": "markdown",
      "metadata": {
        "id": "b3XLif8wMfEF"
      },
      "source": [
        "## Saving your model\n",
        "Using `torch.save`, save your model for future loading."
      ]
    },
    {
      "cell_type": "code",
      "execution_count": 21,
      "metadata": {
        "id": "G95zFdFsMfEF"
      },
      "outputs": [],
      "source": [
        "torch.save(Net, \"Net.pth\")\n",
        "torch.save(Net2, \"Net2.pth\")"
      ]
    }
  ],
  "metadata": {
    "kernelspec": {
      "display_name": "Python 3",
      "language": "python",
      "name": "python3"
    },
    "language_info": {
      "codemirror_mode": {
        "name": "ipython",
        "version": 3
      },
      "file_extension": ".py",
      "mimetype": "text/x-python",
      "name": "python",
      "nbconvert_exporter": "python",
      "pygments_lexer": "ipython3",
      "version": "3.7.6"
    },
    "colab": {
      "provenance": []
    }
  },
  "nbformat": 4,
  "nbformat_minor": 0
}